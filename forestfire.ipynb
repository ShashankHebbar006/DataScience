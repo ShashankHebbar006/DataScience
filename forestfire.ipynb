{
 "cells": [
  {
   "cell_type": "markdown",
   "id": "c4712cf6",
   "metadata": {},
   "source": [
    "## Loading Libraries"
   ]
  },
  {
   "cell_type": "code",
   "execution_count": 1,
   "id": "6ed81561",
   "metadata": {},
   "outputs": [
    {
     "name": "stdout",
     "output_type": "stream",
     "text": [
      "Import Successful\n"
     ]
    }
   ],
   "source": [
    "import pandas as pd\n",
    "import numpy as np\n",
    "import seaborn as sns\n",
    "import matplotlib.pyplot as plt\n",
    "from sklearn.linear_model import LogisticRegression\n",
    "from sklearn.model_selection import train_test_split\n",
    "from sklearn.metrics import confusion_matrix\n",
    "from sklearn.preprocessing import StandardScaler\n",
    "np.seterr(divide = 'ignore') \n",
    "np.random.seed(42)\n",
    "\n",
    "print(\"Import Successful\")"
   ]
  },
  {
   "cell_type": "markdown",
   "id": "0b45db05",
   "metadata": {},
   "source": [
    "## Loading Dataset"
   ]
  },
  {
   "cell_type": "markdown",
   "id": "43d29ab9",
   "metadata": {},
   "source": [
    "* Temperature (0 - 50 degC) using DHT11 Temp. and Humidity Sensor\n",
    "* Humidity (20 - 90% Rh)\n",
    "* Smoke Sensor (detects CO in air and outputs equivalent voltage 10 - 10,000 ppm) MQ7 Sensor"
   ]
  },
  {
   "cell_type": "code",
   "execution_count": 2,
   "id": "ff073ec3",
   "metadata": {
    "scrolled": true
   },
   "outputs": [
    {
     "name": "stdout",
     "output_type": "stream",
     "text": [
      "   Temperature   Humidity       Smoke ForestFire\n",
      "0    58.304492  83.397985  346.893995        yes\n",
      "1    29.099555  28.743238  274.974456         no\n",
      "2    67.379053  75.673938  474.857040        yes\n",
      "3    39.398075   2.974414  496.890775         no\n",
      "4    40.008351  10.911680   72.361935         no\n"
     ]
    },
    {
     "data": {
      "text/html": [
       "<div>\n",
       "<style scoped>\n",
       "    .dataframe tbody tr th:only-of-type {\n",
       "        vertical-align: middle;\n",
       "    }\n",
       "\n",
       "    .dataframe tbody tr th {\n",
       "        vertical-align: top;\n",
       "    }\n",
       "\n",
       "    .dataframe thead th {\n",
       "        text-align: right;\n",
       "    }\n",
       "</style>\n",
       "<table border=\"1\" class=\"dataframe\">\n",
       "  <thead>\n",
       "    <tr style=\"text-align: right;\">\n",
       "      <th></th>\n",
       "      <th>Temperature</th>\n",
       "      <th>Humidity</th>\n",
       "      <th>Smoke</th>\n",
       "    </tr>\n",
       "  </thead>\n",
       "  <tbody>\n",
       "    <tr>\n",
       "      <th>count</th>\n",
       "      <td>100.000000</td>\n",
       "      <td>100.000000</td>\n",
       "      <td>100.000000</td>\n",
       "    </tr>\n",
       "    <tr>\n",
       "      <th>mean</th>\n",
       "      <td>50.684229</td>\n",
       "      <td>47.671505</td>\n",
       "      <td>268.805125</td>\n",
       "    </tr>\n",
       "    <tr>\n",
       "      <th>std</th>\n",
       "      <td>27.893418</td>\n",
       "      <td>28.786516</td>\n",
       "      <td>149.420728</td>\n",
       "    </tr>\n",
       "    <tr>\n",
       "      <th>min</th>\n",
       "      <td>1.431168</td>\n",
       "      <td>0.110416</td>\n",
       "      <td>4.764925</td>\n",
       "    </tr>\n",
       "    <tr>\n",
       "      <th>25%</th>\n",
       "      <td>25.279107</td>\n",
       "      <td>23.235046</td>\n",
       "      <td>168.031499</td>\n",
       "    </tr>\n",
       "    <tr>\n",
       "      <th>50%</th>\n",
       "      <td>52.975962</td>\n",
       "      <td>49.018216</td>\n",
       "      <td>268.438855</td>\n",
       "    </tr>\n",
       "    <tr>\n",
       "      <th>75%</th>\n",
       "      <td>74.055454</td>\n",
       "      <td>73.263706</td>\n",
       "      <td>399.006685</td>\n",
       "    </tr>\n",
       "    <tr>\n",
       "      <th>max</th>\n",
       "      <td>98.664574</td>\n",
       "      <td>99.077992</td>\n",
       "      <td>497.545610</td>\n",
       "    </tr>\n",
       "  </tbody>\n",
       "</table>\n",
       "</div>"
      ],
      "text/plain": [
       "       Temperature    Humidity       Smoke\n",
       "count   100.000000  100.000000  100.000000\n",
       "mean     50.684229   47.671505  268.805125\n",
       "std      27.893418   28.786516  149.420728\n",
       "min       1.431168    0.110416    4.764925\n",
       "25%      25.279107   23.235046  168.031499\n",
       "50%      52.975962   49.018216  268.438855\n",
       "75%      74.055454   73.263706  399.006685\n",
       "max      98.664574   99.077992  497.545610"
      ]
     },
     "execution_count": 2,
     "metadata": {},
     "output_type": "execute_result"
    }
   ],
   "source": [
    "ff_data = pd.read_csv(r\"C:\\Users\\shash\\Desktop\\datasets\\forest.csv\")\n",
    "print(ff_data.head())\n",
    "ff_data.describe()"
   ]
  },
  {
   "cell_type": "code",
   "execution_count": 3,
   "id": "4ba30d2a",
   "metadata": {
    "scrolled": true
   },
   "outputs": [
    {
     "data": {
      "image/png": "[encoded data removed]",
      "text/plain": [
       "<Figure size 1200x300 with 3 Axes>"
      ]
     },
     "metadata": {},
     "output_type": "display_data"
    }
   ],
   "source": [
    "plt.figure(figsize=(12,3))\n",
    "plt.subplot(1,3,1)\n",
    "plt.scatter(ff_data['Temperature'],ff_data['ForestFire'])\n",
    "plt.xlabel(\"ForestFire\")\n",
    "plt.ylabel(\"Temperature\")\n",
    "plt.subplot(1,3,2)\n",
    "plt.scatter(ff_data['Humidity'],ff_data['ForestFire'])\n",
    "plt.xlabel(\"ForestFire\")\n",
    "plt.ylabel(\"Humidity\")\n",
    "plt.subplot(1,3,3)\n",
    "plt.scatter(ff_data['Smoke'],ff_data['ForestFire'])\n",
    "plt.xlabel(\"ForestFire\")\n",
    "plt.ylabel(\"Smoke\")\n",
    "plt.show()"
   ]
  },
  {
   "cell_type": "code",
   "execution_count": 4,
   "id": "0ebd6df8",
   "metadata": {
    "scrolled": true
   },
   "outputs": [
    {
     "data": {
      "image/png": "[encoded data removed]",
      "text/plain": [
       "<Figure size 300x200 with 2 Axes>"
      ]
     },
     "metadata": {},
     "output_type": "display_data"
    }
   ],
   "source": [
    "plt.figure(figsize=(3,2))\n",
    "sns.heatmap(ff_data.corr(),annot=True)\n",
    "X = ff_data.drop(['ForestFire'],axis=1)\n",
    "y = ff_data['ForestFire']\n",
    "#X.drop([\"Humidity\",\"Smoke\"],inplace=True,axis=1)"
   ]
  },
  {
   "cell_type": "markdown",
   "id": "2213e75e",
   "metadata": {},
   "source": [
    "## Data Cleaning and Model training"
   ]
  },
  {
   "cell_type": "code",
   "execution_count": 5,
   "id": "a6021b59",
   "metadata": {},
   "outputs": [],
   "source": [
    "ff_data['ForestFire'] = ff_data['ForestFire'].replace({\"yes\":1,\"no\":0})"
   ]
  },
  {
   "cell_type": "code",
   "execution_count": 6,
   "id": "6bdc6209",
   "metadata": {},
   "outputs": [],
   "source": [
    "SS = StandardScaler()\n",
    "X_scaled = SS.fit_transform(X)\n",
    "\n",
    "X_train, X_test, y_train, y_test = train_test_split(X_scaled,y)"
   ]
  },
  {
   "cell_type": "code",
   "execution_count": 7,
   "id": "94dab850",
   "metadata": {},
   "outputs": [
    {
     "name": "stdout",
     "output_type": "stream",
     "text": [
      "Training Data Accuracy : 96.0 %\n",
      "Test Data Accuracy : 100.0 %\n"
     ]
    }
   ],
   "source": [
    "model = LogisticRegression()\n",
    "model.fit(X_train,y_train)\n",
    "print(f\"Training Data Accuracy : {model.score(X_train,y_train)*100} %\")\n",
    "y_pred = model.predict(X_test)\n",
    "print(f\"Test Data Accuracy : {model.score(X_test,y_test)*100} %\")"
   ]
  },
  {
   "cell_type": "code",
   "execution_count": 8,
   "id": "d2bddd66",
   "metadata": {
    "scrolled": true
   },
   "outputs": [
    {
     "data": {
      "text/html": [
       "<div>\n",
       "<style scoped>\n",
       "    .dataframe tbody tr th:only-of-type {\n",
       "        vertical-align: middle;\n",
       "    }\n",
       "\n",
       "    .dataframe tbody tr th {\n",
       "        vertical-align: top;\n",
       "    }\n",
       "\n",
       "    .dataframe thead th {\n",
       "        text-align: right;\n",
       "    }\n",
       "</style>\n",
       "<table border=\"1\" class=\"dataframe\">\n",
       "  <thead>\n",
       "    <tr style=\"text-align: right;\">\n",
       "      <th></th>\n",
       "      <th>Yes</th>\n",
       "      <th>No</th>\n",
       "    </tr>\n",
       "  </thead>\n",
       "  <tbody>\n",
       "    <tr>\n",
       "      <th>Yes</th>\n",
       "      <td>10</td>\n",
       "      <td>0</td>\n",
       "    </tr>\n",
       "    <tr>\n",
       "      <th>No</th>\n",
       "      <td>0</td>\n",
       "      <td>15</td>\n",
       "    </tr>\n",
       "  </tbody>\n",
       "</table>\n",
       "</div>"
      ],
      "text/plain": [
       "     Yes  No\n",
       "Yes   10   0\n",
       "No     0  15"
      ]
     },
     "execution_count": 8,
     "metadata": {},
     "output_type": "execute_result"
    }
   ],
   "source": [
    "confusion_mat = confusion_matrix(y_test,y_pred)\n",
    "pd.DataFrame(confusion_mat,index=[\"Yes\",\"No\"],columns=[\"Yes\",\"No\"])"
   ]
  }
 ],
 "metadata": {
  "kernelspec": {
   "display_name": "Python 3 (ipykernel)",
   "language": "python",
   "name": "python3"
  },
  "language_info": {
   "codemirror_mode": {
    "name": "ipython",
    "version": 3
   },
   "file_extension": ".py",
   "mimetype": "text/x-python",
   "name": "python",
   "nbconvert_exporter": "python",
   "pygments_lexer": "ipython3",
   "version": "3.9.13"
  }
 },
 "nbformat": 4,
 "nbformat_minor": 5
}
